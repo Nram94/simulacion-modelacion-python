{
  "nbformat": 4,
  "nbformat_minor": 0,
  "metadata": {
    "colab": {
      "provenance": [],
      "authorship_tag": "ABX9TyNBATuJ9RIt0MzmRPp531r3",
      "include_colab_link": true
    },
    "kernelspec": {
      "name": "python3",
      "display_name": "Python 3"
    },
    "language_info": {
      "name": "python"
    }
  },
  "cells": [
    {
      "cell_type": "markdown",
      "metadata": {
        "id": "view-in-github",
        "colab_type": "text"
      },
      "source": [
        "<a href=\"https://colab.research.google.com/github/Nram94/simulacion-modelacion-python/blob/main/Semana01_Introduccion.ipynb\" target=\"_parent\"><img src=\"https://colab.research.google.com/assets/colab-badge.svg\" alt=\"Open In Colab\"/></a>"
      ]
    },
    {
      "cell_type": "markdown",
      "source": [
        "## Google Colab\n",
        "---\n",
        "Se trata de un entorno de programación en Python en nube que no requiere inestalación.\n",
        "Su estructura gira en torno a celdas de código y texto."
      ],
      "metadata": {
        "id": "gWRfQGM-5XWg"
      }
    },
    {
      "cell_type": "code",
      "execution_count": null,
      "metadata": {
        "id": "SbeLuVaM2eFA"
      },
      "outputs": [],
      "source": [
        "# ¡Nuestra primera línea de código!\n",
        "print(\"¡Hola a todos! Estamos listos para simular.\")"
      ]
    },
    {
      "cell_type": "markdown",
      "source": [
        "## Variables y Tipos\n",
        "**Concepto:** Las variables son como cajas con etiquetas (tipos) donde guardamos información (textos, números, etc.)."
      ],
      "metadata": {
        "id": "nwJw1WoM5Whc"
      }
    },
    {
      "cell_type": "code",
      "source": [
        "# Creamos una variable para la cantidad de un ingrediente\n",
        "cantidad_ingrediente = 50.5  # Esto es un número flotante (con decimales)\n",
        "\n",
        "# Otra variable para el nombre del ingrediente\n",
        "nombre_ingrediente = \"ácido hialurónico\"  # Esto es una cadena de texto\n",
        "\n",
        "# Otra variable para número de muestras del ingrdeiente\n",
        "muestras_ingrediente = 4 # Esto es un número entero (sin decimales).\n",
        "\n",
        "# Otra variable para verificar el grupo funcional principal del ingrediente.\n",
        "es_compuesto_organico = True # Esto es un valor booleano (verdadero o falso)\n",
        "\n",
        "# ¡Podemos usar las variables en una frase!\n",
        "print(f\"La fórmula contiene {cantidad_ingrediente} gramos de {nombre_ingrediente}.\")\n",
        "print(f\"Las {muestras_ingrediente} muestras son de contenido orgánico? R/ {es_compuesto_organico}\")"
      ],
      "metadata": {
        "colab": {
          "base_uri": "https://localhost:8080/"
        },
        "id": "yBc8Ud88_yj7",
        "outputId": "4ab6524b-1790-40ad-c135-bbf24f11bee7"
      },
      "execution_count": null,
      "outputs": [
        {
          "output_type": "stream",
          "name": "stdout",
          "text": [
            "La fórmula contiene 50.5 gramos de ácido hialurónico.\n",
            "Las 4 muestras son de contenido orgánico? R/ True\n"
          ]
        }
      ]
    },
    {
      "cell_type": "markdown",
      "source": [
        "***Reglas para declarar una variable en Python:***\n",
        "\n",
        "\n",
        "\n",
        "1.   El nombre solo puede *contener* **letras**, **números** y **guiones bajos**\n",
        "2.   El nombre solo puede *comenzar* con **letras** y **guiones bajos**.\n",
        "3.   El nombre *no puede* ser una palbra reservada de Python (ejemplo: while, True, for, break...).\n",
        "\n",
        "\n",
        "\n",
        "\n",
        "\n",
        "\n",
        "\n",
        "\n"
      ],
      "metadata": {
        "id": "2t_emZaG_3JJ"
      }
    },
    {
      "cell_type": "code",
      "source": [],
      "metadata": {
        "id": "EY77aaD9ASdy"
      },
      "execution_count": null,
      "outputs": []
    },
    {
      "cell_type": "markdown",
      "source": [
        "## Listas y Diccionarios\n",
        "\n",
        "**Conceptos**:\n",
        "\n",
        "\n",
        "*   Las ***listas*** son colecciones ordenadas de elementos. Son muy versátiles y pueden guardar diferentes tipos de datos. Son como la lista de volumenes en un ensayo de calidad.\n",
        "*   Los ***diccionarios*** son colecciones desordenadas de elementos. Son muy versátiles y pueden guardar diferentes tipos de datos. Son como la lista de ingredientes en una receta.\n",
        "\n",
        "\n"
      ],
      "metadata": {
        "id": "Qxn50LQ1BISL"
      }
    },
    {
      "cell_type": "code",
      "source": [
        "# Una lista de ingredientes en mililitros\n",
        "ingredientes_ml = [20, 15, 30] # 3 posiciones\n",
        "# Posiciones        0  1   2\n",
        "# Nota importante: ¡Python empieza a contar desde 0!\n",
        "# La lista también puede tener elementos de diferentes tipos\n",
        "\n",
        "# Un diccionario con información de un producto\n",
        "informacion_producto = {\"Nombre\":\"suero\",\n",
        "                        \"Volumen\": 50,\n",
        "                        \"Unidad\": \"mL\",\n",
        "                        \"Es_Vegano\": True\n",
        "                        }\n",
        "# Los elementos de un diccionario se identifican con claves y se les asocian valores\n",
        "# clave:valor\n",
        "\n",
        "# Las listas se acceden con el número de la posición\n",
        "print(f\"Primer ingrediente: {ingredientes_ml[0]} ml\")\n",
        "# Los diccionarios se acceden con el nombre de la clave.\n",
        "print(f\"Volumen del producto: {informacion_producto['Volumen']} {informacion_producto['Unidad']}\")"
      ],
      "metadata": {
        "colab": {
          "base_uri": "https://localhost:8080/"
        },
        "id": "UNNXdXOLCVXP",
        "outputId": "822e8b33-b567-4a0a-a5b2-d2da1aedfcf5"
      },
      "execution_count": null,
      "outputs": [
        {
          "output_type": "stream",
          "name": "stdout",
          "text": [
            "Primer ingrediente: 20 ml\n",
            "Volumen del producto: 50 mL\n"
          ]
        }
      ]
    },
    {
      "cell_type": "code",
      "source": [
        "# Modificar el valor de una lista\n",
        "ingredientes_ml[1] = 25 # Cambiamos el valor en la posición 1\n",
        "\n",
        "# Modificar el valor de un diccionario\n",
        "informacion_producto[\"Volumen\"] = 55 # Cambiabmos el valor de la clave \"Volumen\"\n",
        "\n",
        "print(ingredientes_ml)\n",
        "print(informacion_producto)"
      ],
      "metadata": {
        "id": "XkGNxF41C_St",
        "colab": {
          "base_uri": "https://localhost:8080/"
        },
        "outputId": "f6306b48-cf7c-45f4-9d7a-463ebb811bc8"
      },
      "execution_count": null,
      "outputs": [
        {
          "output_type": "stream",
          "name": "stdout",
          "text": [
            "[20, 25, 30]\n",
            "{'Nombre': 'suero', 'Volumen': 55, 'Unidad': 'mL', 'Es_Vegano': True}\n"
          ]
        }
      ]
    },
    {
      "cell_type": "markdown",
      "source": [
        "## Condicionales\n",
        "**Concepto**: Nos permiten tomar decisiones. \"Si\" una condición es verdadera, hacemos algo; \"si no\", hacemos otra cosa."
      ],
      "metadata": {
        "id": "k1mhY942DAFC"
      }
    },
    {
      "cell_type": "code",
      "source": [
        "# Verificar que un producto tenga las unidades correctas\n",
        "producto_suero = {\n",
        "    \"nombre\":\"Suero A\",\n",
        "    \"cantidad\": 200,\n",
        "    \"unidades\":\"g\" # Asumimos que debe ser en mL, por lo que este está mal\n",
        "}\n",
        "\n",
        "# Usamos condicional simple con la palabra reservada if\n",
        "if producto_suero[\"unidades\"] != \"mL\":\n",
        "  print(f\"El producto {producto_suero[\"nombre\"]} debe estar en mL.\")"
      ],
      "metadata": {
        "colab": {
          "base_uri": "https://localhost:8080/"
        },
        "id": "rRvRw7BLxC7J",
        "outputId": "4b6538bc-46d6-458b-819d-0b91b7a495bd"
      },
      "execution_count": null,
      "outputs": [
        {
          "output_type": "stream",
          "name": "stdout",
          "text": [
            "El producto Suero A debe estar en mL.\n"
          ]
        }
      ]
    },
    {
      "cell_type": "code",
      "source": [
        "# Decidimos si un producto está aprobado para la venta\n",
        "ph_producto = 5.5\n",
        "\n",
        "# Usamos condicional if-else\n",
        "# Usamos la palabra reservada if y la palabra reservada else en este caso.\n",
        "if ph_producto >= 4.5 and ph_producto <= 6.5:\n",
        "    print(\"El producto tiene un pH adecuado. ¡Aprobado para la venta!\")\n",
        "else:\n",
        "    print(\"El pH está fuera del rango seguro. Se necesita un ajuste.\")"
      ],
      "metadata": {
        "colab": {
          "base_uri": "https://localhost:8080/"
        },
        "id": "l4c6aMOQDJG4",
        "outputId": "06b63d7e-af73-46b7-eefc-5f27d99d916c"
      },
      "execution_count": null,
      "outputs": [
        {
          "output_type": "stream",
          "name": "stdout",
          "text": [
            "El producto tiene un pH adecuado. ¡Aprobado para la venta!\n"
          ]
        }
      ]
    },
    {
      "cell_type": "code",
      "source": [
        "# Verificamos si el tamaño de partícula lleva a una dispersión coloidal o una suespensión\n",
        "tamano_particula = 50 # nanometros\n",
        "\n",
        "# Usamos condicional if-elif-else\n",
        "# Usamos las palabras reservadas if, elif y else en este caso\n",
        "if tamano_particula > 100:\n",
        "  print(\"La dispersión es una suspensión.\")\n",
        "elif tamano_particula <= 100 and tamano_particula > 1:\n",
        "  print(\"La dispersión es coloidal.\")\n",
        "else:\n",
        "  print(\"No se identifica el tipo de dispersión\")"
      ],
      "metadata": {
        "colab": {
          "base_uri": "https://localhost:8080/"
        },
        "id": "EROoeUDPyDKh",
        "outputId": "7a772ecf-3dad-4252-9597-aa7322cb656f"
      },
      "execution_count": null,
      "outputs": [
        {
          "output_type": "stream",
          "name": "stdout",
          "text": [
            "La dispersión es coloidal.\n"
          ]
        }
      ]
    },
    {
      "cell_type": "code",
      "source": [],
      "metadata": {
        "id": "JlUsfF0zDSOv"
      },
      "execution_count": null,
      "outputs": []
    },
    {
      "cell_type": "markdown",
      "source": [
        "## Ciclos\n",
        "**Concepto**: Nos ayudan a repetir una tarea varias veces, sin tener que escribir el mismo código una y otra vez. Piensa en ellos como un \"para cada elemento en la lista, haz esto\""
      ],
      "metadata": {
        "id": "t6662uqwDSbr"
      }
    },
    {
      "cell_type": "code",
      "source": [
        "# Queremos procesar una lista de lotes de producción\n",
        "lotes_produccion = [101, 102, 103, 104, 105]\n",
        "\n",
        "# Recorremos cada lote e imprimimos su estado usando ciclo for...\n",
        "for lote in lotes_produccion:\n",
        "    print(f\"Revisando el lote número {lote}...\")\n",
        "print(\" -- Fin ciclo for -- \")\n",
        "print()\n",
        "# ... o usando ciclo while\n",
        "num_lote = 0\n",
        "while (num_lote < len(lotes_produccion)):\n",
        "  print(f\"Revisando el lote número {lotes_produccion[num_lote]}...\")\n",
        "  num_lote = num_lote + 1\n",
        "\n",
        "print(\" -- Fin ciclo while -- \")\n",
        "print()"
      ],
      "metadata": {
        "colab": {
          "base_uri": "https://localhost:8080/"
        },
        "id": "w4rr8hVhDXic",
        "outputId": "1e05c907-536e-4f7f-b803-591467055ce8"
      },
      "execution_count": null,
      "outputs": [
        {
          "output_type": "stream",
          "name": "stdout",
          "text": [
            "Revisando el lote número 101...\n",
            "Revisando el lote número 102...\n",
            "Revisando el lote número 103...\n",
            "Revisando el lote número 104...\n",
            "Revisando el lote número 105...\n",
            " -- Fin ciclo for -- \n",
            "\n",
            "Revisando el lote número 101...\n",
            "Revisando el lote número 102...\n",
            "Revisando el lote número 103...\n",
            "Revisando el lote número 104...\n",
            "Revisando el lote número 105...\n",
            " -- Fin ciclo while -- \n",
            "\n"
          ]
        }
      ]
    },
    {
      "cell_type": "code",
      "source": [
        "# CASO ESPECIAL DEL CICLO WHILE\n",
        "# Definimos un ciclo infinto\n",
        "\n",
        "num_lote = 100\n",
        "while (True):\n",
        "  print(f\"Revisando el lote número {num_lote}...\")\n",
        "  if num_lote == 109:\n",
        "    print(f\"Lote {num_lote} encontrado.\")\n",
        "    break # Esta palabra reservada rompe cualquier ciclo\n",
        "\n",
        "  num_lote = num_lote + 1\n"
      ],
      "metadata": {
        "id": "uk2Kz-2CD1K-",
        "colab": {
          "base_uri": "https://localhost:8080/"
        },
        "outputId": "96d6af9e-ce09-4d71-832e-76f4da6f83a1"
      },
      "execution_count": 9,
      "outputs": [
        {
          "output_type": "stream",
          "name": "stdout",
          "text": [
            "Revisando el lote número 100...\n",
            "Revisando el lote número 101...\n",
            "Revisando el lote número 102...\n",
            "Revisando el lote número 103...\n",
            "Revisando el lote número 104...\n",
            "Revisando el lote número 105...\n",
            "Revisando el lote número 106...\n",
            "Revisando el lote número 107...\n",
            "Revisando el lote número 108...\n",
            "Revisando el lote número 109...\n",
            "Lote 109 encontrado.\n"
          ]
        }
      ]
    },
    {
      "cell_type": "markdown",
      "source": [
        "## Funciones\n",
        "**Concepto**: Las funciones son bloques de código reutilizables. Nos permiten encapsular una tarea y llamarla cuando la necesitemos, haciendo nuestro código más ordenado."
      ],
      "metadata": {
        "id": "nP4U52R_D1Yl"
      }
    },
    {
      "cell_type": "code",
      "source": [
        "# Creamos una función para calcular el costo de un lote\n",
        "def calcular_costo_lote(cantidad_materia_prima, precio_por_unidad):\n",
        "    costo_total = cantidad_materia_prima * precio_por_unidad\n",
        "    return costo_total  # La función devuelve el valor calculado\n",
        "\n",
        "# Usamos nuestra función\n",
        "costo_lote_1 = calcular_costo_lote(cantidad_materia_prima=250, precio_por_unidad=5)\n",
        "print(f\"El costo del lote 1 es de ${costo_lote_1}.\")"
      ],
      "metadata": {
        "colab": {
          "base_uri": "https://localhost:8080/"
        },
        "id": "WUYaMo0mD73H",
        "outputId": "fb2c79ed-d91d-414d-942d-3ce7fcc31ed5"
      },
      "execution_count": null,
      "outputs": [
        {
          "output_type": "stream",
          "name": "stdout",
          "text": [
            "El costo del lote 1 es de $1250.\n"
          ]
        }
      ]
    },
    {
      "cell_type": "code",
      "source": [
        "# En Colab podemos usar la fucnión desde otra celda,\n",
        "# si ya ejecutamos la celda de la función.\n",
        "costo_lote_2 = calcular_costo_lote(cantidad_materia_prima=400, precio_por_unidad=6)\n",
        "print(f\"El costo del lote 2 es de ${costo_lote_2}.\")"
      ],
      "metadata": {
        "colab": {
          "base_uri": "https://localhost:8080/"
        },
        "id": "t7HeHZPVD93e",
        "outputId": "1c689c70-658f-4df9-fe68-d0d7f19c2ba4"
      },
      "execution_count": null,
      "outputs": [
        {
          "output_type": "stream",
          "name": "stdout",
          "text": [
            "El costo del lote 2 es de $2400.\n"
          ]
        }
      ]
    },
    {
      "cell_type": "markdown",
      "source": [
        "## Librerías\n",
        "**Concepto**: Explica que las librerías son conjuntos de funciones y herramientas creadas por otros programadores. Son como las \"cajas de herramientas\" que nos permiten resolver problemas complejos de manera sencilla."
      ],
      "metadata": {
        "id": "JGvyDysQEadp"
      }
    },
    {
      "cell_type": "markdown",
      "source": [
        "### Numpy - Alegbra de Datos en nuestras manos\n",
        "\n",
        "**Concepto**: La librería para el cálculo numérico y la manipulación de arreglos. Es la base de casi todo el análisis de datos en Python. Los array de NumPy son mucho más eficientes que las listas de Python para operaciones matemáticas."
      ],
      "metadata": {
        "id": "BIseqIq3EhOp"
      }
    },
    {
      "cell_type": "markdown",
      "source": [
        "[Linka documentación NumPy](https://numpy.org/doc/stable/user/index.html)"
      ],
      "metadata": {
        "id": "EhuZLULXFS7G"
      }
    },
    {
      "cell_type": "code",
      "source": [
        "import numpy as np # Importamos la librería\n",
        "\n",
        "# Un array de ingredientes\n",
        "ingredientes_g = np.array([50, 10, 25])\n",
        "\n",
        "# Una operación matemática con todo el array a la vez\n",
        "# Convertimos a kilogramos\n",
        "ingredientes_kg = ingredientes_g / 1000\n",
        "print(\"Ingredientes en kg:\", ingredientes_kg)"
      ],
      "metadata": {
        "colab": {
          "base_uri": "https://localhost:8080/"
        },
        "id": "Ec7robgeEoV1",
        "outputId": "f88dbadd-232e-46af-d256-87e0c30d7151"
      },
      "execution_count": null,
      "outputs": [
        {
          "output_type": "stream",
          "name": "stdout",
          "text": [
            "Ingredientes en kg: [0.05  0.01  0.025]\n"
          ]
        }
      ]
    },
    {
      "cell_type": "code",
      "source": [],
      "metadata": {
        "id": "Y84D_u7sErv3"
      },
      "execution_count": null,
      "outputs": []
    },
    {
      "cell_type": "markdown",
      "source": [
        "### Pandas - Organizando los datos\n",
        "**Concepto**: La librería para análisis y manipulación de datos. Su estructura principal es el DataFrame, que es como una hoja de cálculo o una tabla de Excel. Es indispensable para trabajar con datos del mundo real."
      ],
      "metadata": {
        "id": "FAtohS4CEr_R"
      }
    },
    {
      "cell_type": "markdown",
      "source": [
        "[Link documentación Pandas](https://pandas.pydata.org/docs)"
      ],
      "metadata": {
        "id": "9-wcGXd6Fk32"
      }
    },
    {
      "cell_type": "code",
      "source": [
        "import pandas as pd # Importamos la librería\n",
        "\n",
        "# Creamos un DataFrame con datos de ventas\n",
        "datos_ventas = {\n",
        "    'Producto': ['Crema facial', 'Suero anti-edad', 'Limpiador'],\n",
        "    'Ventas_mensuales': [1200, 850, 1500],\n",
        "    'Costo_produccion': [15, 25, 10]\n",
        "}\n",
        "df = pd.DataFrame(datos_ventas)\n",
        "\n",
        "print(df)"
      ],
      "metadata": {
        "colab": {
          "base_uri": "https://localhost:8080/"
        },
        "id": "lXfXb1dIE0cx",
        "outputId": "fbd0d907-37fd-460d-a3b6-365214e33196"
      },
      "execution_count": null,
      "outputs": [
        {
          "output_type": "stream",
          "name": "stdout",
          "text": [
            "          Producto  Ventas_mensuales  Costo_produccion\n",
            "0     Crema facial              1200                15\n",
            "1  Suero anti-edad               850                25\n",
            "2        Limpiador              1500                10\n"
          ]
        }
      ]
    },
    {
      "cell_type": "code",
      "source": [
        "# En Colab tenemos una segunda opción de visualización de los DataFrame\n",
        "df"
      ],
      "metadata": {
        "colab": {
          "base_uri": "https://localhost:8080/",
          "height": 143
        },
        "id": "4rTmzMxrE3k2",
        "outputId": "936c82c9-864c-40da-e6d0-6074134f765c"
      },
      "execution_count": null,
      "outputs": [
        {
          "output_type": "execute_result",
          "data": {
            "text/plain": [
              "          Producto  Ventas_mensuales  Costo_produccion\n",
              "0     Crema facial              1200                15\n",
              "1  Suero anti-edad               850                25\n",
              "2        Limpiador              1500                10"
            ],
            "text/html": [
              "\n",
              "  <div id=\"df-c566812c-af46-4b94-8d7e-5d74f28f0935\" class=\"colab-df-container\">\n",
              "    <div>\n",
              "<style scoped>\n",
              "    .dataframe tbody tr th:only-of-type {\n",
              "        vertical-align: middle;\n",
              "    }\n",
              "\n",
              "    .dataframe tbody tr th {\n",
              "        vertical-align: top;\n",
              "    }\n",
              "\n",
              "    .dataframe thead th {\n",
              "        text-align: right;\n",
              "    }\n",
              "</style>\n",
              "<table border=\"1\" class=\"dataframe\">\n",
              "  <thead>\n",
              "    <tr style=\"text-align: right;\">\n",
              "      <th></th>\n",
              "      <th>Producto</th>\n",
              "      <th>Ventas_mensuales</th>\n",
              "      <th>Costo_produccion</th>\n",
              "    </tr>\n",
              "  </thead>\n",
              "  <tbody>\n",
              "    <tr>\n",
              "      <th>0</th>\n",
              "      <td>Crema facial</td>\n",
              "      <td>1200</td>\n",
              "      <td>15</td>\n",
              "    </tr>\n",
              "    <tr>\n",
              "      <th>1</th>\n",
              "      <td>Suero anti-edad</td>\n",
              "      <td>850</td>\n",
              "      <td>25</td>\n",
              "    </tr>\n",
              "    <tr>\n",
              "      <th>2</th>\n",
              "      <td>Limpiador</td>\n",
              "      <td>1500</td>\n",
              "      <td>10</td>\n",
              "    </tr>\n",
              "  </tbody>\n",
              "</table>\n",
              "</div>\n",
              "    <div class=\"colab-df-buttons\">\n",
              "\n",
              "  <div class=\"colab-df-container\">\n",
              "    <button class=\"colab-df-convert\" onclick=\"convertToInteractive('df-c566812c-af46-4b94-8d7e-5d74f28f0935')\"\n",
              "            title=\"Convert this dataframe to an interactive table.\"\n",
              "            style=\"display:none;\">\n",
              "\n",
              "  <svg xmlns=\"http://www.w3.org/2000/svg\" height=\"24px\" viewBox=\"0 -960 960 960\">\n",
              "    <path d=\"M120-120v-720h720v720H120Zm60-500h600v-160H180v160Zm220 220h160v-160H400v160Zm0 220h160v-160H400v160ZM180-400h160v-160H180v160Zm440 0h160v-160H620v160ZM180-180h160v-160H180v160Zm440 0h160v-160H620v160Z\"/>\n",
              "  </svg>\n",
              "    </button>\n",
              "\n",
              "  <style>\n",
              "    .colab-df-container {\n",
              "      display:flex;\n",
              "      gap: 12px;\n",
              "    }\n",
              "\n",
              "    .colab-df-convert {\n",
              "      background-color: #E8F0FE;\n",
              "      border: none;\n",
              "      border-radius: 50%;\n",
              "      cursor: pointer;\n",
              "      display: none;\n",
              "      fill: #1967D2;\n",
              "      height: 32px;\n",
              "      padding: 0 0 0 0;\n",
              "      width: 32px;\n",
              "    }\n",
              "\n",
              "    .colab-df-convert:hover {\n",
              "      background-color: #E2EBFA;\n",
              "      box-shadow: 0px 1px 2px rgba(60, 64, 67, 0.3), 0px 1px 3px 1px rgba(60, 64, 67, 0.15);\n",
              "      fill: #174EA6;\n",
              "    }\n",
              "\n",
              "    .colab-df-buttons div {\n",
              "      margin-bottom: 4px;\n",
              "    }\n",
              "\n",
              "    [theme=dark] .colab-df-convert {\n",
              "      background-color: #3B4455;\n",
              "      fill: #D2E3FC;\n",
              "    }\n",
              "\n",
              "    [theme=dark] .colab-df-convert:hover {\n",
              "      background-color: #434B5C;\n",
              "      box-shadow: 0px 1px 3px 1px rgba(0, 0, 0, 0.15);\n",
              "      filter: drop-shadow(0px 1px 2px rgba(0, 0, 0, 0.3));\n",
              "      fill: #FFFFFF;\n",
              "    }\n",
              "  </style>\n",
              "\n",
              "    <script>\n",
              "      const buttonEl =\n",
              "        document.querySelector('#df-c566812c-af46-4b94-8d7e-5d74f28f0935 button.colab-df-convert');\n",
              "      buttonEl.style.display =\n",
              "        google.colab.kernel.accessAllowed ? 'block' : 'none';\n",
              "\n",
              "      async function convertToInteractive(key) {\n",
              "        const element = document.querySelector('#df-c566812c-af46-4b94-8d7e-5d74f28f0935');\n",
              "        const dataTable =\n",
              "          await google.colab.kernel.invokeFunction('convertToInteractive',\n",
              "                                                    [key], {});\n",
              "        if (!dataTable) return;\n",
              "\n",
              "        const docLinkHtml = 'Like what you see? Visit the ' +\n",
              "          '<a target=\"_blank\" href=https://colab.research.google.com/notebooks/data_table.ipynb>data table notebook</a>'\n",
              "          + ' to learn more about interactive tables.';\n",
              "        element.innerHTML = '';\n",
              "        dataTable['output_type'] = 'display_data';\n",
              "        await google.colab.output.renderOutput(dataTable, element);\n",
              "        const docLink = document.createElement('div');\n",
              "        docLink.innerHTML = docLinkHtml;\n",
              "        element.appendChild(docLink);\n",
              "      }\n",
              "    </script>\n",
              "  </div>\n",
              "\n",
              "\n",
              "    <div id=\"df-afa73102-4714-4743-a8b5-1d44643f7879\">\n",
              "      <button class=\"colab-df-quickchart\" onclick=\"quickchart('df-afa73102-4714-4743-a8b5-1d44643f7879')\"\n",
              "                title=\"Suggest charts\"\n",
              "                style=\"display:none;\">\n",
              "\n",
              "<svg xmlns=\"http://www.w3.org/2000/svg\" height=\"24px\"viewBox=\"0 0 24 24\"\n",
              "     width=\"24px\">\n",
              "    <g>\n",
              "        <path d=\"M19 3H5c-1.1 0-2 .9-2 2v14c0 1.1.9 2 2 2h14c1.1 0 2-.9 2-2V5c0-1.1-.9-2-2-2zM9 17H7v-7h2v7zm4 0h-2V7h2v10zm4 0h-2v-4h2v4z\"/>\n",
              "    </g>\n",
              "</svg>\n",
              "      </button>\n",
              "\n",
              "<style>\n",
              "  .colab-df-quickchart {\n",
              "      --bg-color: #E8F0FE;\n",
              "      --fill-color: #1967D2;\n",
              "      --hover-bg-color: #E2EBFA;\n",
              "      --hover-fill-color: #174EA6;\n",
              "      --disabled-fill-color: #AAA;\n",
              "      --disabled-bg-color: #DDD;\n",
              "  }\n",
              "\n",
              "  [theme=dark] .colab-df-quickchart {\n",
              "      --bg-color: #3B4455;\n",
              "      --fill-color: #D2E3FC;\n",
              "      --hover-bg-color: #434B5C;\n",
              "      --hover-fill-color: #FFFFFF;\n",
              "      --disabled-bg-color: #3B4455;\n",
              "      --disabled-fill-color: #666;\n",
              "  }\n",
              "\n",
              "  .colab-df-quickchart {\n",
              "    background-color: var(--bg-color);\n",
              "    border: none;\n",
              "    border-radius: 50%;\n",
              "    cursor: pointer;\n",
              "    display: none;\n",
              "    fill: var(--fill-color);\n",
              "    height: 32px;\n",
              "    padding: 0;\n",
              "    width: 32px;\n",
              "  }\n",
              "\n",
              "  .colab-df-quickchart:hover {\n",
              "    background-color: var(--hover-bg-color);\n",
              "    box-shadow: 0 1px 2px rgba(60, 64, 67, 0.3), 0 1px 3px 1px rgba(60, 64, 67, 0.15);\n",
              "    fill: var(--button-hover-fill-color);\n",
              "  }\n",
              "\n",
              "  .colab-df-quickchart-complete:disabled,\n",
              "  .colab-df-quickchart-complete:disabled:hover {\n",
              "    background-color: var(--disabled-bg-color);\n",
              "    fill: var(--disabled-fill-color);\n",
              "    box-shadow: none;\n",
              "  }\n",
              "\n",
              "  .colab-df-spinner {\n",
              "    border: 2px solid var(--fill-color);\n",
              "    border-color: transparent;\n",
              "    border-bottom-color: var(--fill-color);\n",
              "    animation:\n",
              "      spin 1s steps(1) infinite;\n",
              "  }\n",
              "\n",
              "  @keyframes spin {\n",
              "    0% {\n",
              "      border-color: transparent;\n",
              "      border-bottom-color: var(--fill-color);\n",
              "      border-left-color: var(--fill-color);\n",
              "    }\n",
              "    20% {\n",
              "      border-color: transparent;\n",
              "      border-left-color: var(--fill-color);\n",
              "      border-top-color: var(--fill-color);\n",
              "    }\n",
              "    30% {\n",
              "      border-color: transparent;\n",
              "      border-left-color: var(--fill-color);\n",
              "      border-top-color: var(--fill-color);\n",
              "      border-right-color: var(--fill-color);\n",
              "    }\n",
              "    40% {\n",
              "      border-color: transparent;\n",
              "      border-right-color: var(--fill-color);\n",
              "      border-top-color: var(--fill-color);\n",
              "    }\n",
              "    60% {\n",
              "      border-color: transparent;\n",
              "      border-right-color: var(--fill-color);\n",
              "    }\n",
              "    80% {\n",
              "      border-color: transparent;\n",
              "      border-right-color: var(--fill-color);\n",
              "      border-bottom-color: var(--fill-color);\n",
              "    }\n",
              "    90% {\n",
              "      border-color: transparent;\n",
              "      border-bottom-color: var(--fill-color);\n",
              "    }\n",
              "  }\n",
              "</style>\n",
              "\n",
              "      <script>\n",
              "        async function quickchart(key) {\n",
              "          const quickchartButtonEl =\n",
              "            document.querySelector('#' + key + ' button');\n",
              "          quickchartButtonEl.disabled = true;  // To prevent multiple clicks.\n",
              "          quickchartButtonEl.classList.add('colab-df-spinner');\n",
              "          try {\n",
              "            const charts = await google.colab.kernel.invokeFunction(\n",
              "                'suggestCharts', [key], {});\n",
              "          } catch (error) {\n",
              "            console.error('Error during call to suggestCharts:', error);\n",
              "          }\n",
              "          quickchartButtonEl.classList.remove('colab-df-spinner');\n",
              "          quickchartButtonEl.classList.add('colab-df-quickchart-complete');\n",
              "        }\n",
              "        (() => {\n",
              "          let quickchartButtonEl =\n",
              "            document.querySelector('#df-afa73102-4714-4743-a8b5-1d44643f7879 button');\n",
              "          quickchartButtonEl.style.display =\n",
              "            google.colab.kernel.accessAllowed ? 'block' : 'none';\n",
              "        })();\n",
              "      </script>\n",
              "    </div>\n",
              "\n",
              "  <div id=\"id_3b6f08e4-4215-4063-94c7-7b42adda245e\">\n",
              "    <style>\n",
              "      .colab-df-generate {\n",
              "        background-color: #E8F0FE;\n",
              "        border: none;\n",
              "        border-radius: 50%;\n",
              "        cursor: pointer;\n",
              "        display: none;\n",
              "        fill: #1967D2;\n",
              "        height: 32px;\n",
              "        padding: 0 0 0 0;\n",
              "        width: 32px;\n",
              "      }\n",
              "\n",
              "      .colab-df-generate:hover {\n",
              "        background-color: #E2EBFA;\n",
              "        box-shadow: 0px 1px 2px rgba(60, 64, 67, 0.3), 0px 1px 3px 1px rgba(60, 64, 67, 0.15);\n",
              "        fill: #174EA6;\n",
              "      }\n",
              "\n",
              "      [theme=dark] .colab-df-generate {\n",
              "        background-color: #3B4455;\n",
              "        fill: #D2E3FC;\n",
              "      }\n",
              "\n",
              "      [theme=dark] .colab-df-generate:hover {\n",
              "        background-color: #434B5C;\n",
              "        box-shadow: 0px 1px 3px 1px rgba(0, 0, 0, 0.15);\n",
              "        filter: drop-shadow(0px 1px 2px rgba(0, 0, 0, 0.3));\n",
              "        fill: #FFFFFF;\n",
              "      }\n",
              "    </style>\n",
              "    <button class=\"colab-df-generate\" onclick=\"generateWithVariable('df')\"\n",
              "            title=\"Generate code using this dataframe.\"\n",
              "            style=\"display:none;\">\n",
              "\n",
              "  <svg xmlns=\"http://www.w3.org/2000/svg\" height=\"24px\"viewBox=\"0 0 24 24\"\n",
              "       width=\"24px\">\n",
              "    <path d=\"M7,19H8.4L18.45,9,17,7.55,7,17.6ZM5,21V16.75L18.45,3.32a2,2,0,0,1,2.83,0l1.4,1.43a1.91,1.91,0,0,1,.58,1.4,1.91,1.91,0,0,1-.58,1.4L9.25,21ZM18.45,9,17,7.55Zm-12,3A5.31,5.31,0,0,0,4.9,8.1,5.31,5.31,0,0,0,1,6.5,5.31,5.31,0,0,0,4.9,4.9,5.31,5.31,0,0,0,6.5,1,5.31,5.31,0,0,0,8.1,4.9,5.31,5.31,0,0,0,12,6.5,5.46,5.46,0,0,0,6.5,12Z\"/>\n",
              "  </svg>\n",
              "    </button>\n",
              "    <script>\n",
              "      (() => {\n",
              "      const buttonEl =\n",
              "        document.querySelector('#id_3b6f08e4-4215-4063-94c7-7b42adda245e button.colab-df-generate');\n",
              "      buttonEl.style.display =\n",
              "        google.colab.kernel.accessAllowed ? 'block' : 'none';\n",
              "\n",
              "      buttonEl.onclick = () => {\n",
              "        google.colab.notebook.generateWithVariable('df');\n",
              "      }\n",
              "      })();\n",
              "    </script>\n",
              "  </div>\n",
              "\n",
              "    </div>\n",
              "  </div>\n"
            ],
            "application/vnd.google.colaboratory.intrinsic+json": {
              "type": "dataframe",
              "variable_name": "df",
              "summary": "{\n  \"name\": \"df\",\n  \"rows\": 3,\n  \"fields\": [\n    {\n      \"column\": \"Producto\",\n      \"properties\": {\n        \"dtype\": \"string\",\n        \"num_unique_values\": 3,\n        \"samples\": [\n          \"Crema facial\",\n          \"Suero anti-edad\",\n          \"Limpiador\"\n        ],\n        \"semantic_type\": \"\",\n        \"description\": \"\"\n      }\n    },\n    {\n      \"column\": \"Ventas_mensuales\",\n      \"properties\": {\n        \"dtype\": \"number\",\n        \"std\": 325,\n        \"min\": 850,\n        \"max\": 1500,\n        \"num_unique_values\": 3,\n        \"samples\": [\n          1200,\n          850,\n          1500\n        ],\n        \"semantic_type\": \"\",\n        \"description\": \"\"\n      }\n    },\n    {\n      \"column\": \"Costo_produccion\",\n      \"properties\": {\n        \"dtype\": \"number\",\n        \"std\": 7,\n        \"min\": 10,\n        \"max\": 25,\n        \"num_unique_values\": 3,\n        \"samples\": [\n          15,\n          25,\n          10\n        ],\n        \"semantic_type\": \"\",\n        \"description\": \"\"\n      }\n    }\n  ]\n}"
            }
          },
          "metadata": {},
          "execution_count": 16
        }
      ]
    },
    {
      "cell_type": "markdown",
      "source": [
        "### Matplotlib - Veamos nuestros modelos\n",
        "**Concepto**: La librería para crear gráficos y visualizaciones. Es crucial para entender los resultados de nuestras simulaciones y análisis."
      ],
      "metadata": {
        "id": "7rCw9xOtE-6e"
      }
    },
    {
      "cell_type": "markdown",
      "source": [
        "[Link documentación Matplotlib](https://matplotlib.org/stable/users/index.html)"
      ],
      "metadata": {
        "id": "x89zE69tFrFh"
      }
    },
    {
      "cell_type": "code",
      "source": [
        "import matplotlib.pyplot as plt # Importamos la librería\n",
        "\n",
        "# Datos de producción a lo largo de 5 semanas\n",
        "semanas = [1, 2, 3, 4, 5]\n",
        "unidades_producidas = [500, 550, 600, 580, 620]\n",
        "\n",
        "plt.plot(semanas, unidades_producidas)\n",
        "plt.title(\"Producción de crema por semana\")\n",
        "plt.xlabel(\"Semana\")\n",
        "plt.ylabel(\"Unidades Producidas\")\n",
        "plt.grid(True)\n",
        "plt.show()"
      ],
      "metadata": {
        "colab": {
          "base_uri": "https://localhost:8080/",
          "height": 472
        },
        "id": "K0MzbPDGE8-7",
        "outputId": "83c9338a-0613-4012-ae94-1aeebaf70958"
      },
      "execution_count": null,
      "outputs": [
        {
          "output_type": "display_data",
          "data": {
            "text/plain": [
              "<Figure size 640x480 with 1 Axes>"
            ],
            "image/png": "[encoded data removed]"
          },
          "metadata": {}
        }
      ]
    },
    {
      "cell_type": "code",
      "source": [],
      "metadata": {
        "id": "e6zvPoRqFQRR"
      },
      "execution_count": null,
      "outputs": []
    }
  ]
}
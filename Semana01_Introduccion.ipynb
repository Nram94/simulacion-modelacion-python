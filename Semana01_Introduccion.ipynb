{
  "nbformat": 4,
  "nbformat_minor": 0,
  "metadata": {
    "colab": {
      "provenance": [],
      "toc_visible": true,
      "authorship_tag": "ABX9TyOzFql1WrDfOqeYafuB4jkk",
      "include_colab_link": true
    },
    "kernelspec": {
      "name": "python3",
      "display_name": "Python 3"
    },
    "language_info": {
      "name": "python"
    }
  },
  "cells": [
    {
      "cell_type": "markdown",
      "metadata": {
        "id": "view-in-github",
        "colab_type": "text"
      },
      "source": [
        "<a href=\"https://colab.research.google.com/github/Nram94/simulacion-modelacion-python/blob/main/Semana01_Introduccion.ipynb\" target=\"_parent\"><img src=\"https://colab.research.google.com/assets/colab-badge.svg\" alt=\"Open In Colab\"/></a>"
      ]
    },
    {
      "cell_type": "markdown",
      "source": [
        "## Google Colab\n",
        "---\n",
        "Se trata de un entorno de programación en Python en nube que no requiere inestalación.\n",
        "Su estructura gira en torno a celdas de código y texto."
      ],
      "metadata": {
        "id": "gWRfQGM-5XWg"
      }
    },
    {
      "cell_type": "code",
      "execution_count": null,
      "metadata": {
        "id": "SbeLuVaM2eFA"
      },
      "outputs": [],
      "source": [
        "# ¡Nuestra primera línea de código!\n",
        "print(\"¡Hola a todos! Estamos listos para simular.\")"
      ]
    },
    {
      "cell_type": "markdown",
      "source": [
        "## Variables y Tipos\n",
        "**Concepto:** Las variables son como cajas con etiquetas (tipos) donde guardamos información (textos, números, etc.)."
      ],
      "metadata": {
        "id": "nwJw1WoM5Whc"
      }
    },
    {
      "cell_type": "code",
      "source": [
        "# Creamos una variable para la cantidad de un ingrediente\n",
        "cantidad_ingrediente = 50.5  # Esto es un número flotante (con decimales)\n",
        "\n",
        "# Otra variable para el nombre del ingrediente\n",
        "nombre_ingrediente = \"ácido hialurónico\"  # Esto es una cadena de texto\n",
        "\n",
        "# Otra variable para número de muestras del ingrdeiente\n",
        "muestras_ingrediente = 4 # Esto es un número entero (sin decimales).\n",
        "\n",
        "# Otra variable para verificar el grupo funcional principal del ingrediente.\n",
        "es_compuesto_organico = True # Esto es un valor booleano (verdadero o falso)\n",
        "\n",
        "# ¡Podemos usar las variables en una frase!\n",
        "print(f\"La fórmula contiene {cantidad_ingrediente} gramos de {nombre_ingrediente}.\")\n",
        "print(f\"Las {muestras_ingrediente} son de contenido orgánico? R/ {es_compuesto_organico}\")"
      ],
      "metadata": {
        "colab": {
          "base_uri": "https://localhost:8080/"
        },
        "id": "yBc8Ud88_yj7",
        "outputId": "2ef51476-f07c-44f2-e1c7-986c5afbe838"
      },
      "execution_count": 3,
      "outputs": [
        {
          "output_type": "stream",
          "name": "stdout",
          "text": [
            "La fórmula contiene 50.5 gramos de ácido hialurónico.\n",
            "Las 4 son de contenido orgánico? R/ True\n"
          ]
        }
      ]
    },
    {
      "cell_type": "markdown",
      "source": [
        "***Reglas para declarar una variable en Python:***\n",
        "\n",
        "\n",
        "\n",
        "1.   El nombre solo puede *contener* **letras**, **números** y **guiones bajos**\n",
        "2.   El nombre solo puede *comenzar* con **letras** y **guiones bajos**.\n",
        "3.   El nombre *no puede* ser una palbra reservada de Python (ejemplo: while, True, for, break...).\n",
        "\n",
        "\n",
        "\n",
        "\n",
        "\n",
        "\n",
        "\n",
        "\n"
      ],
      "metadata": {
        "id": "2t_emZaG_3JJ"
      }
    },
    {
      "cell_type": "code",
      "source": [],
      "metadata": {
        "id": "EY77aaD9ASdy"
      },
      "execution_count": null,
      "outputs": []
    },
    {
      "cell_type": "code",
      "source": [],
      "metadata": {
        "id": "1c1WyS89B5KN"
      },
      "execution_count": null,
      "outputs": []
    },
    {
      "cell_type": "markdown",
      "source": [
        "## Listas y Diccionarios\n",
        "\n",
        "**Conceptos**:\n",
        "\n",
        "\n",
        "*   Las ***listas*** son colecciones ordenadas de elementos. Son muy versátiles y pueden guardar diferentes tipos de datos. Son como la lista de volumenes en un ensayo de calidad.\n",
        "*   Los ***diccionarios*** son colecciones desordenadas de elementos. Son muy versátiles y pueden guardar diferentes tipos de datos. Son como la lista de ingredientes en una receta.\n",
        "\n",
        "\n"
      ],
      "metadata": {
        "id": "Qxn50LQ1BISL"
      }
    },
    {
      "cell_type": "code",
      "source": [
        "# Una lista de ingredientes en mililitros\n",
        "ingredientes_ml = [20, 15, 30]\n",
        "\n",
        "# La lista también puede tener elementos de diferentes tipos\n",
        "informacion_producto = {\"Nombre\":\"suero\",\n",
        "                        \"Volumen\": 50,\n",
        "                        \"Unidad\": \"mL\",\n",
        "                        \"Es_Vegano\": True\n",
        "                        }\n",
        "\n",
        "\n",
        "print(f\"Primer ingrediente: {ingredientes_ml[0]} ml\") # Nota importante: ¡Python empieza a contar desde 0!\n",
        "# Los diccionarios se acceden con el nombre de la clave.\n",
        "print(f\"Volumen del producto: {informacion_producto['Volumen']} {informacion_producto['Unidad']}\")"
      ],
      "metadata": {
        "colab": {
          "base_uri": "https://localhost:8080/"
        },
        "id": "UNNXdXOLCVXP",
        "outputId": "26db9109-2abf-4907-e0e5-0591f6b1b810"
      },
      "execution_count": 4,
      "outputs": [
        {
          "output_type": "stream",
          "name": "stdout",
          "text": [
            "Primer ingrediente: 20ml\n",
            "Volumen del producto: 50 mL\n"
          ]
        }
      ]
    },
    {
      "cell_type": "code",
      "source": [],
      "metadata": {
        "id": "XkGNxF41C_St"
      },
      "execution_count": null,
      "outputs": []
    },
    {
      "cell_type": "markdown",
      "source": [
        "## Condicionales\n",
        "**Concepto**: Nos permiten tomar decisiones. \"Si\" una condición es verdadera, hacemos algo; \"si no\", hacemos otra cosa."
      ],
      "metadata": {
        "id": "k1mhY942DAFC"
      }
    },
    {
      "cell_type": "code",
      "source": [
        "# Decidimos si un producto está aprobado para la venta\n",
        "ph_producto = 5.5\n",
        "\n",
        "# Usamos la palabra reservada if y la palabra reservada else en este caso.\n",
        "if ph_producto >= 4.5 and ph_producto <= 6.5:\n",
        "    print(\"El producto tiene un pH adecuado. ¡Aprobado para la venta!\")\n",
        "else:\n",
        "    print(\"El pH está fuera del rango seguro. Se necesita un ajuste.\")"
      ],
      "metadata": {
        "colab": {
          "base_uri": "https://localhost:8080/"
        },
        "id": "l4c6aMOQDJG4",
        "outputId": "06b63d7e-af73-46b7-eefc-5f27d99d916c"
      },
      "execution_count": 5,
      "outputs": [
        {
          "output_type": "stream",
          "name": "stdout",
          "text": [
            "El producto tiene un pH adecuado. ¡Aprobado para la venta!\n"
          ]
        }
      ]
    },
    {
      "cell_type": "code",
      "source": [],
      "metadata": {
        "id": "JlUsfF0zDSOv"
      },
      "execution_count": null,
      "outputs": []
    },
    {
      "cell_type": "markdown",
      "source": [
        "## Ciclos\n",
        "**Concepto**: Nos ayudan a repetir una tarea varias veces, sin tener que escribir el mismo código una y otra vez. Piensa en ellos como un \"para cada elemento en la lista, haz esto\""
      ],
      "metadata": {
        "id": "t6662uqwDSbr"
      }
    },
    {
      "cell_type": "code",
      "source": [
        "# Queremos procesar una lista de lotes de producción\n",
        "lotes_produccion = [101, 102, 103, 104, 105]\n",
        "\n",
        "# Recorremos cada lote e imprimimos su estado usando ciclo for...\n",
        "for lote in lotes_produccion:\n",
        "    print(f\"Revisando el lote número {lote}...\")\n",
        "print(\" -- Fin ciclo for -- \")\n",
        "print()\n",
        "# ... o usando ciclo while\n",
        "num_lote = 0\n",
        "while (num_lote < len(lotes_produccion)):\n",
        "  print(f\"Revisando el lote número {lotes_produccion[num_lote]}...\")\n",
        "  num_lote = num_lote + 1\n",
        "\n",
        "print(\" -- Fin ciclo while -- \")\n",
        "print()"
      ],
      "metadata": {
        "colab": {
          "base_uri": "https://localhost:8080/"
        },
        "id": "w4rr8hVhDXic",
        "outputId": "1e05c907-536e-4f7f-b803-591467055ce8"
      },
      "execution_count": 8,
      "outputs": [
        {
          "output_type": "stream",
          "name": "stdout",
          "text": [
            "Revisando el lote número 101...\n",
            "Revisando el lote número 102...\n",
            "Revisando el lote número 103...\n",
            "Revisando el lote número 104...\n",
            "Revisando el lote número 105...\n",
            " -- Fin ciclo for -- \n",
            "\n",
            "Revisando el lote número 101...\n",
            "Revisando el lote número 102...\n",
            "Revisando el lote número 103...\n",
            "Revisando el lote número 104...\n",
            "Revisando el lote número 105...\n",
            " -- Fin ciclo while -- \n",
            "\n"
          ]
        }
      ]
    },
    {
      "cell_type": "code",
      "source": [],
      "metadata": {
        "id": "uk2Kz-2CD1K-"
      },
      "execution_count": null,
      "outputs": []
    },
    {
      "cell_type": "markdown",
      "source": [
        "## Funciones\n",
        "**Concepto**: Las funciones son bloques de código reutilizables. Nos permiten encapsular una tarea y llamarla cuando la necesitemos, haciendo nuestro código más ordenado."
      ],
      "metadata": {
        "id": "nP4U52R_D1Yl"
      }
    },
    {
      "cell_type": "code",
      "source": [
        "# Creamos una función para calcular el costo de un lote\n",
        "def calcular_costo_lote(cantidad_materia_prima, precio_por_unidad):\n",
        "    costo_total = cantidad_materia_prima * precio_por_unidad\n",
        "    return costo_total  # La función devuelve el valor calculado\n",
        "\n",
        "# Usamos nuestra función\n",
        "costo_lote_1 = calcular_costo_lote(cantidad_materia_prima=250, precio_por_unidad=5)\n",
        "print(f\"El costo del lote 1 es de ${costo_lote_1}.\")"
      ],
      "metadata": {
        "colab": {
          "base_uri": "https://localhost:8080/"
        },
        "id": "WUYaMo0mD73H",
        "outputId": "fb2c79ed-d91d-414d-942d-3ce7fcc31ed5"
      },
      "execution_count": 9,
      "outputs": [
        {
          "output_type": "stream",
          "name": "stdout",
          "text": [
            "El costo del lote 1 es de $1250.\n"
          ]
        }
      ]
    },
    {
      "cell_type": "code",
      "source": [
        "# En Colab podemos usar la fucnión desde otra celda,\n",
        "# si ya ejecutamos la celda de la función.\n",
        "costo_lote_2 = calcular_costo_lote(cantidad_materia_prima=400, precio_por_unidad=6)\n",
        "print(f\"El costo del lote 2 es de ${costo_lote_2}.\")"
      ],
      "metadata": {
        "colab": {
          "base_uri": "https://localhost:8080/"
        },
        "id": "t7HeHZPVD93e",
        "outputId": "1c689c70-658f-4df9-fe68-d0d7f19c2ba4"
      },
      "execution_count": 13,
      "outputs": [
        {
          "output_type": "stream",
          "name": "stdout",
          "text": [
            "El costo del lote 2 es de $2400.\n"
          ]
        }
      ]
    }
  ]
}